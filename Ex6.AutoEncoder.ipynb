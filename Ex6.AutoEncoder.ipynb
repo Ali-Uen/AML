{
 "cells": [
  {
   "cell_type": "markdown",
   "id": "91c76ea3",
   "metadata": {},
   "source": [
    "<img src=\"https://www.th-koeln.de/img/logo.svg\" style=\"float:right;\" width=\"200\">"
   ]
  },
  {
   "cell_type": "markdown",
   "id": "e9505dc0",
   "metadata": {},
   "source": [
    "# 6th exercise: <font color=\"#C70039\">Work with Autoencoders for anomaly detection</font>\n",
    "* Course: AML\n",
    "* Lecturer: <a href=\"https://www.gernotheisenberg.de/\">Gernot Heisenberg</a>\n",
    "* Author of notebook: <a href=\"https://www.gernotheisenberg.de/\">Gernot Heisenberg</a>\n",
    "* Date:   01.12.2023\n",
    "* Student: Ali Ünal\n",
    "\n",
    "<img src=\"https://blog.keras.io/img/ae/autoencoder_schema.jpg\" style=\"float: center;\" width=\"700\">\n",
    "\n",
    "---------------------------------\n",
    "**GENERAL NOTE 1**: \n",
    "Please make sure you are reading the entire notebook, since it contains a lot of information on your tasks (e.g. regarding the set of certain paramaters or a specific computational trick), and the written mark downs as well as comments contain a lot of information on how things work together as a whole. \n",
    "\n",
    "**GENERAL NOTE 2**: \n",
    "* Please, when commenting source code, just use English language only. \n",
    "* When describing an observation please use English language, too.\n",
    "* This applies to all exercises throughout this course.\n",
    "\n",
    "---------------------------------\n",
    "\n",
    "### <font color=\"ce33ff\">DESCRIPTION</font>:\n",
    "Autoencoder is an unsupervised artificial neural network (ANN) that learns how to efficiently compress and encode data and then learns how to reconstruct the data back from the reduced encoded representation to a representation that is as close to the original input as possible.\n",
    "\n",
    "An Autoencoder reduces data dimensions by learning how to ignore the noise in the data and thus outliers.\n",
    "In the section above, you can seen an example of the input/output image from the MNIST dataset to an Autoencoder.\n",
    "\n",
    "#### Autoencoder Components:\n",
    "An Autoencoder consists of four main parts:\n",
    "\n",
    "1. Encoder: In which the model learns how to reduce the input dimensions and compress the input data into an encoded representation.\n",
    "\n",
    "2. Bottleneck: which is the layer that contains the compressed representation of the input data. This is the lowest possible dimensions of the input data. The bottlneck is also called latent vector. The concept of the latent space and latent vectors becomes important later on as we move forward to understand Generative Models. \n",
    "\n",
    "3. Decoder: In which the model learns how to reconstruct the data from the encoded representation to be as close to the original input as possible.\n",
    "\n",
    "4. Reconstruction Loss: This is the method that measures how well the decoder is performing and how close the output is to the original input.\n",
    "\n",
    "As always in ANNs, the training itself involves back propagation in order to minimize the network’s reconstruction loss.\n",
    "\n",
    "Due to this features of an Autoencoder the use cases are manyfold. One of the obviously is anomaly detection. \n",
    "\n",
    "#### Autoencoder Architecture:\n",
    "\n",
    "The network architecture for Autoencoders can vary between simple Feed Forward networks, Recurrent Neural Networks (LSTM) or Convolutional Neural Networks (CNN) depending on the use case. \n",
    "\n",
    "---------------------------------\n",
    "\n",
    "### <font color=\"FFC300\">TASKS</font>:\n",
    "The tasks that you need to work on within this notebook are always indicated below as bullet points. \n",
    "If a task is more challenging and consists of several steps, this is indicated as well. \n",
    "Make sure you have worked down the task list and commented your doings. \n",
    "This should be done by using markdown.<br> \n",
    "<font color=red>Make sure you don't forget to specify your name and your matriculation number in the notebook.</font>\n",
    "\n",
    "**YOUR TASKS in this exercise are as follows**:\n",
    "1. import the notebook to Google Colab or use your local machine.\n",
    "2. make sure you specified you name and your matriculation number in the header below my name and date. \n",
    "    * set the date too and remove mine.\n",
    "3. read the entire notebook carefully \n",
    "    * add comments whereever you feel it necessary for better understanding\n",
    "    * run the notebook for the first time.\n",
    "    * the example below shows how to use an autoencoder for anomaly detection\n",
    "\n",
    "4. <font color=green>Develop an Autoencoder for Domain Adaptation (Me -> Walter White ). You can of course also take own data, e.g. a photo of yours and someone else.</font>\n",
    "5. Set at least the following hyperparameters for training (epochs=100000, shuffle=True).\n",
    "6. Implement a CNN for working out important features for the adaptation. If you feel lost in the exercise, please visit the sample solution.\n",
    "7. There is also an implementation of data augmentation that helps you building up your data set from one single \"original\" image. \n",
    "---------------------------------"
   ]
  },
  {
   "cell_type": "markdown",
   "id": "9e8ff998",
   "metadata": {},
   "source": [
    "### Auto-Encoding\n",
    "If you have correlated input data, the auto-encoder method will work very well because the encoding operation relies on the correlated features to compress the data.\n",
    "Let’s consider that an auto-encoder is trained on the MNIST dataset. \n",
    "As you know already, using a simple FeedForward neural network, this can be done by building a simple 6 layers network as below:"
   ]
  },
  {
   "cell_type": "code",
   "execution_count": 1,
   "id": "5f2c0a59",
   "metadata": {
    "tags": []
   },
   "outputs": [
    {
     "name": "stdout",
     "output_type": "stream",
     "text": [
      "Epoch 1/10\n",
      "59/59 [==============================] - 2s 29ms/step - loss: 0.0769 - val_loss: 0.0514\n",
      "Epoch 2/10\n",
      "59/59 [==============================] - 2s 27ms/step - loss: 0.0442 - val_loss: 0.0368\n",
      "Epoch 3/10\n",
      "59/59 [==============================] - 2s 26ms/step - loss: 0.0333 - val_loss: 0.0296\n",
      "Epoch 4/10\n",
      "59/59 [==============================] - 1s 25ms/step - loss: 0.0286 - val_loss: 0.0266\n",
      "Epoch 5/10\n",
      "59/59 [==============================] - 1s 25ms/step - loss: 0.0260 - val_loss: 0.0244\n",
      "Epoch 6/10\n",
      "59/59 [==============================] - 1s 25ms/step - loss: 0.0241 - val_loss: 0.0229\n",
      "Epoch 7/10\n",
      "59/59 [==============================] - 2s 26ms/step - loss: 0.0228 - val_loss: 0.0217\n",
      "Epoch 8/10\n",
      "59/59 [==============================] - 1s 25ms/step - loss: 0.0217 - val_loss: 0.0208\n",
      "Epoch 9/10\n",
      "59/59 [==============================] - 1s 25ms/step - loss: 0.0208 - val_loss: 0.0201\n",
      "Epoch 10/10\n",
      "59/59 [==============================] - 1s 25ms/step - loss: 0.0201 - val_loss: 0.0194\n",
      "1875/1875 [==============================] - 2s 951us/step\n",
      "1875/1875 [==============================] - 4s 2ms/step\n"
     ]
    }
   ],
   "source": [
    "import numpy as np\n",
    "import keras\n",
    "import os\n",
    "from matplotlib import pyplot as plt\n",
    "import shutil\n",
    "import cv2\n",
    "\n",
    "from   keras.datasets import mnist\n",
    "from   keras.models import Sequential, Model\n",
    "from   keras.layers import Dense, Input\n",
    "from   keras import optimizers\n",
    "from   keras.optimizers import Adam\n",
    "\n",
    "from tensorflow.keras.preprocessing.image import ImageDataGenerator, array_to_img, img_to_array, load_img\n",
    "import tensorflow as tf\n",
    "from tensorflow.keras.preprocessing.image import img_to_array\n",
    "from tensorflow.keras.layers import Conv2D, MaxPooling2D, UpSampling2D\n",
    "from tensorflow.keras.models import Sequential\n",
    "\n",
    "from   tqdm import tqdm\n",
    "import time\n",
    "\n",
    "SIZE=256\n",
    "# load the inbuild mnist data set (8bit grayscale digits)\n",
    "# https://en.wikipedia.org/wiki/MNIST_database\n",
    "(x_train, y_train), (x_test, y_test) = mnist.load_data()\n",
    "# normalize the training and the validation data set\n",
    "train_x = x_train.reshape(60000, 784) / 255\n",
    "val_x = x_test.reshape(10000, 784) / 255\n",
    "\n",
    "# build the auto-encoding layers\n",
    "autoencoder = Sequential()\n",
    "autoencoder.add(Dense(512,  activation='elu', input_shape=(784,)))\n",
    "autoencoder.add(Dense(128,  activation='elu'))\n",
    "autoencoder.add(Dense(10,   activation='linear', name=\"bottleneck\"))\n",
    "autoencoder.add(Dense(128,  activation='elu'))\n",
    "autoencoder.add(Dense(512,  activation='elu'))\n",
    "autoencoder.add(Dense(784,  activation='sigmoid'))\n",
    "autoencoder.compile(loss='mean_squared_error', optimizer = Adam())\n",
    "\n",
    "'''\n",
    "NOTE:\n",
    "-----\n",
    "The Exponential Linear Unit (ELU) is an activation function for neural networks. \n",
    "In contrast to ReLUs (which you know), ELUs have negative values which allows them to push mean unit \n",
    "activations closer to zero like batch normalization but with lower computational complexity.\n",
    "'''    \n",
    "\n",
    "# train the model and finally assign the encoding to the decoder\n",
    "'''\n",
    "NOTE:\n",
    "-----\n",
    "make sure you understand, that you are training on train_x and not on train_y but train_x again for the reconstruction\n",
    "the same for the validation (val_x, val_x)\n",
    "'''\n",
    "trained_model = autoencoder.fit(train_x, train_x, batch_size=1024, epochs=10, verbose=1, validation_data=(val_x, val_x))\n",
    "encoder = Model(autoencoder.input, autoencoder.get_layer('bottleneck').output)\n",
    "\n",
    "encoded_data = encoder.predict(train_x)  # bottleneck representation\n",
    "\n",
    "decoded_output = autoencoder.predict(train_x)        # reconstruction\n",
    "encoding_dim = 10\n",
    "\n",
    "# return the decoder\n",
    "encoded_input = Input(shape=(encoding_dim,))\n",
    "decoder = autoencoder.layers[-3](encoded_input)\n",
    "decoder = autoencoder.layers[-2](decoder)\n",
    "decoder = autoencoder.layers[-1](decoder)\n",
    "decoder = Model(encoded_input, decoder)"
   ]
  },
  {
   "cell_type": "markdown",
   "id": "7e8b39fb",
   "metadata": {},
   "source": [
    "As you can see in the output, the last reconstruction loss/error for the validation set is approx. 0.0197, which is great. \n",
    "Now, if we pass any normal image from the MNIST dataset, the reconstruction loss will be very low (< 0.02) BUT if we tried to pass any other different image (outlier / anomaly), we will get a high reconstruction loss value because the network failed to reconstruct the image/input that is considered an anomaly.\n",
    "\n",
    "Notice in the code above, you can use only the encoder part to compress some data or images and you can also only use the decoder part to decompress the data by loading the decoder layers."
   ]
  },
  {
   "cell_type": "markdown",
   "id": "adf39053",
   "metadata": {},
   "source": [
    "#### Auto-Encoders for Anomaly Detection\n",
    "Now, let’s do some anomaly detection. The code below uses two different images to predict the anomaly score (reconstruction error) using the autoencoder network we trained above. \n",
    "\n",
    "The first image is from the MNIST and the result is error=2.46241018. This means that the image is not an anomaly. The second image (yoda.png) obviously does not belong to the training dataset and the result is: error=2727.0718. This high error means that the image is an anomaly. Even the third image. The same concept applies to any type of dataset."
   ]
  },
  {
   "cell_type": "code",
   "execution_count": 2,
   "id": "da9e8232",
   "metadata": {
    "tags": []
   },
   "outputs": [
    {
     "name": "stdout",
     "output_type": "stream",
     "text": [
      "1/1 [==============================] - 0s 47ms/step\n",
      "[2.67647771]\n"
     ]
    }
   ],
   "source": [
    "# If you are using a newer version of keras than '2.4.3', read this article below.\n",
    "# It describes a versioning issue in the keras libs\n",
    "'''https://stackoverflow.com/questions/72383347/how-to-fix-it-attributeerror-module-keras-preprocessing-image-has-no-attribu'''\n",
    "from keras.preprocessing import image\n",
    "\n",
    "# take an image from the validation data set or the training data set, respectively\n",
    "input_img = val_x[50] \n",
    "input_img_flat = input_img.reshape(1,784)\n",
    "\n",
    "target_data = autoencoder.predict(input_img_flat)\n",
    "\n",
    "dist = np.linalg.norm(input_img_flat - target_data, axis=-1)\n",
    "\n",
    "print(dist)"
   ]
  },
  {
   "cell_type": "code",
   "execution_count": 3,
   "id": "1bb47cc9-e8b3-47b5-a0fe-12dbb74abd69",
   "metadata": {},
   "outputs": [
    {
     "data": {
      "image/png": "[encoded data removed]",
      "text/plain": [
       "<Figure size 640x480 with 2 Axes>"
      ]
     },
     "metadata": {},
     "output_type": "display_data"
    }
   ],
   "source": [
    "fig, axes = plt.subplots(1,2)\n",
    "axes[0].imshow(input_img.reshape(28,28), cmap=\"gray\")\n",
    "axes[1].imshow(target_data.reshape(28, 28), cmap=\"gray\")\n",
    "axes[0].set_xlabel(\"Original\")\n",
    "axes[1].set_xlabel(\"Reconstructed\")\n",
    "plt.show()"
   ]
  },
  {
   "cell_type": "code",
   "execution_count": 4,
   "id": "ccafc75d",
   "metadata": {
    "tags": []
   },
   "outputs": [
    {
     "name": "stdout",
     "output_type": "stream",
     "text": [
      "1/1 [==============================] - 0s 11ms/step\n",
      "[5133.9116]\n"
     ]
    }
   ],
   "source": [
    "# Now take Master Yoda as the test image. The error score will be very high (error=2727.0718)\n",
    "img = load_img(\"yoda.jpg\", target_size=(28, 28), color_mode = \"grayscale\")\n",
    "input_img = img_to_array(img)\n",
    "\n",
    "input_img_flat = input_img.reshape(1,784)\n",
    "target_data = autoencoder.predict(input_img_flat)\n",
    "dist = np.linalg.norm(input_img_flat - target_data, axis=-1)\n",
    "print(dist)"
   ]
  },
  {
   "cell_type": "code",
   "execution_count": 5,
   "id": "b553f742",
   "metadata": {
    "tags": []
   },
   "outputs": [
    {
     "name": "stdout",
     "output_type": "stream",
     "text": [
      "1/1 [==============================] - 0s 14ms/step\n",
      "[3819.961]\n"
     ]
    }
   ],
   "source": [
    "''' \n",
    "Now take a Mnist image which is taken from the google image search and although it is super similar to the training data\n",
    "it does not belong to the same data distribution the auto-encoder was trained on. \n",
    "It produces an error almost as high as yoda.png (approx error=2551.99)\n",
    "This makes autoencoders being a very robust technique for anomaly detection.\n",
    "'''\n",
    "img = load_img(\"mnist.png\", target_size=(28, 28), color_mode = \"grayscale\")\n",
    "input_img = img_to_array(img)\n",
    "\n",
    "input_img_flat = input_img.reshape(1,784)\n",
    "target_data = autoencoder.predict(input_img_flat)\n",
    "dist = np.linalg.norm(input_img_flat - target_data, axis=-1)\n",
    "\n",
    "print(dist)"
   ]
  },
  {
   "cell_type": "code",
   "execution_count": 6,
   "id": "b3ca8e09-ac68-442a-b747-c9fca81d0e4f",
   "metadata": {},
   "outputs": [],
   "source": [
    "#in the results above we see that even though the second image is similar the error score is still high. But the yoda image scores even worse than the mnist.png\n",
    "# as for the reconstructed 6, the results looks pretty promising even though some pixels are missing\n",
    "# a higher error indicates an outlier since the autodecoder is trained on the non-outlier data"
   ]
  },
  {
   "cell_type": "markdown",
   "id": "6f07eecd-bbde-46ea-8116-2c511777c568",
   "metadata": {},
   "source": [
    "### Generating-Images"
   ]
  },
  {
   "cell_type": "code",
   "execution_count": null,
   "id": "36719e2b-8377-47f2-9e53-955c91ff190c",
   "metadata": {},
   "outputs": [],
   "source": [
    "# we are using the the generating-images code that you provided\n",
    "# after that we load and normalize the images"
   ]
  },
  {
   "cell_type": "code",
   "execution_count": 7,
   "id": "85628dd9-916a-4e2f-9de9-fefd8b453399",
   "metadata": {},
   "outputs": [
    {
     "name": "stdout",
     "output_type": "stream",
     "text": [
      "image_names: ['th_heisenberg.png']\n",
      "th_heisenberg.png\n",
      "image_names: ['heisenberg.jpg']\n",
      "heisenberg.jpg\n"
     ]
    }
   ],
   "source": [
    "def generate__augment_images(input_folder, output_folder, n=50):\n",
    "    # Initialize ImageDataGenerator\n",
    "    datagen = ImageDataGenerator(\n",
    "        rotation_range=90,\n",
    "        horizontal_flip=True,\n",
    "        vertical_flip=True,\n",
    "        width_shift_range=45.0,\n",
    "        height_shift_range=45.0\n",
    "    )\n",
    "\n",
    "    # Get list of image names in the input folder\n",
    "    image_names = os.listdir(input_folder)\n",
    "\n",
    "    print('image_names:', image_names)\n",
    "    \n",
    "    # Remove existing files in the output folder\n",
    "    for file_name in os.listdir(output_folder):\n",
    "        file_path = os.path.join(output_folder, file_name)\n",
    "        try:\n",
    "            if os.path.isfile(file_path):\n",
    "                os.unlink(file_path)\n",
    "        except Exception as e:\n",
    "            print(e)\n",
    "\n",
    "    # Iterate through each image in the input folder\n",
    "    for filename in image_names:\n",
    "        print(filename)\n",
    "        # Load the image\n",
    "        img = load_img(os.path.join(input_folder, filename))\n",
    "        x = img_to_array(img)\n",
    "        x = x.reshape((1, ) + x.shape)\n",
    "        i = 0\n",
    "\n",
    "        # Generate n new augmented images and store them in the output folder\n",
    "        for batch in datagen.flow(x, batch_size=1, save_to_dir=output_folder, save_prefix='aug', save_format='jpg'):\n",
    "            i += 1\n",
    "            if i > n:\n",
    "                break\n",
    "\n",
    "# Example usage:\n",
    "input_folder = \"gernot\"\n",
    "output_folder = 'augmentedGernot'\n",
    "generate__augment_images(input_folder, output_folder)\n",
    "input_folder = \"walter\"\n",
    "output_folder = 'augmentedWalter'\n",
    "generate__augment_images(input_folder, output_folder)"
   ]
  },
  {
   "cell_type": "markdown",
   "id": "6d6cb9a1-49c3-420e-a1b3-268146cb2c54",
   "metadata": {},
   "source": [
    "### Load-and-normalize Images"
   ]
  },
  {
   "cell_type": "code",
   "execution_count": 9,
   "id": "e69e297e-c4d2-4f84-85d7-cde24fded7b0",
   "metadata": {},
   "outputs": [
    {
     "name": "stderr",
     "output_type": "stream",
     "text": [
      "100%|█████████████████████████████████████████████████████████████████████████████████| 51/51 [00:00<00:00, 227.63it/s]\n",
      "100%|█████████████████████████████████████████████████████████████████████████████████| 51/51 [00:00<00:00, 144.85it/s]\n"
     ]
    }
   ],
   "source": [
    "def normalize_images(input_path, output_path, test_img_path, SIZE):\n",
    "    \n",
    "    # import input img\n",
    "    input_img_data = []\n",
    "    input_files = os.listdir(input_path)\n",
    "    for i in tqdm(input_files):\n",
    "        img = cv2.imread(os.path.join(input_path, i), 1)  # Change 0 to 1 for color images\n",
    "        img = cv2.resize(img, (SIZE, SIZE))\n",
    "        input_img_data.append(img_to_array(img))\n",
    "        \n",
    "    # import output_img\n",
    "    output_img_data = []\n",
    "    output_files = os.listdir(output_path)\n",
    "    for i in tqdm(output_files):\n",
    "        img = cv2.imread(os.path.join(output_path, i), 1)  # Change 0 to 1 for color images\n",
    "        img = cv2.resize(img, (SIZE, SIZE))\n",
    "        output_img_data.append(img_to_array(img))\n",
    "\n",
    "    input_img_array = np.reshape(input_img_data, (len(input_img_data), SIZE, SIZE, 3))\n",
    "    input_img_array = input_img_array.astype('float32') / 255.0  # normalize\n",
    "\n",
    "    output_img_array = np.reshape(output_img_data, (len(output_img_data), SIZE, SIZE, 3))\n",
    "    output_img_array = output_img_array.astype('float32') / 255.0  # normalize\n",
    "\n",
    "    # Original image for prediction of output_img\n",
    "    # this one does not belong to the training set\n",
    "    test_img_data = []\n",
    "\n",
    "    test_img = cv2.imread(test_img_path, 1)  # Change 0 to 1 for color images\n",
    "    test_img = cv2.cvtColor(test_img, cv2.COLOR_BGR2RGB)  # Changing BGR to RGB to show images in true colors\n",
    "    test_img = cv2.resize(test_img, (SIZE, SIZE))\n",
    "    test_img_data.append(img_to_array(test_img))\n",
    "\n",
    "    test_img_array = np.reshape(test_img_data, (len(test_img_data), SIZE, SIZE, 3))\n",
    "    test_img_array = test_img_array.astype('float32') / 255.0  # normalize\n",
    "\n",
    "    # set the start time\n",
    "    # later needed for calculating the computation time\n",
    "    start = time.time()\n",
    "\n",
    "    return input_img_array, output_img_array, test_img_array, start\n",
    "\n",
    "# Example usage:\n",
    "SIZE = 224\n",
    "input_path = 'augmentedGernot'\n",
    "output_path = 'augmentedWalter'\n",
    "test_img_path = 'heisenberg.jpg'\n",
    "\n",
    "input_img_array, output_img_array, test_img_array, start = normalize_images(input_path, output_path, test_img_path, SIZE)\n"
   ]
  },
  {
   "cell_type": "code",
   "execution_count": 10,
   "id": "8a9a6985-7129-4129-a798-42b33a279757",
   "metadata": {},
   "outputs": [
    {
     "name": "stdout",
     "output_type": "stream",
     "text": [
      "Model: \"sequential_1\"\n",
      "_________________________________________________________________\n",
      " Layer (type)                Output Shape              Param #   \n",
      "=================================================================\n",
      " conv2d (Conv2D)             (None, 224, 224, 32)      896       \n",
      "                                                                 \n",
      " max_pooling2d (MaxPooling2D  (None, 112, 112, 32)     0         \n",
      " )                                                               \n",
      "                                                                 \n",
      " conv2d_1 (Conv2D)           (None, 112, 112, 8)       2312      \n",
      "                                                                 \n",
      " max_pooling2d_1 (MaxPooling  (None, 56, 56, 8)        0         \n",
      " 2D)                                                             \n",
      "                                                                 \n",
      " conv2d_2 (Conv2D)           (None, 56, 56, 8)         584       \n",
      "                                                                 \n",
      " max_pooling2d_2 (MaxPooling  (None, 28, 28, 8)        0         \n",
      " 2D)                                                             \n",
      "                                                                 \n",
      " conv2d_3 (Conv2D)           (None, 28, 28, 8)         584       \n",
      "                                                                 \n",
      " up_sampling2d (UpSampling2D  (None, 56, 56, 8)        0         \n",
      " )                                                               \n",
      "                                                                 \n",
      " conv2d_4 (Conv2D)           (None, 56, 56, 8)         584       \n",
      "                                                                 \n",
      " up_sampling2d_1 (UpSampling  (None, 112, 112, 8)      0         \n",
      " 2D)                                                             \n",
      "                                                                 \n",
      " conv2d_5 (Conv2D)           (None, 112, 112, 32)      2336      \n",
      "                                                                 \n",
      " up_sampling2d_2 (UpSampling  (None, 224, 224, 32)     0         \n",
      " 2D)                                                             \n",
      "                                                                 \n",
      " conv2d_6 (Conv2D)           (None, 224, 224, 3)       867       \n",
      "                                                                 \n",
      "=================================================================\n",
      "Total params: 8,163\n",
      "Trainable params: 8,163\n",
      "Non-trainable params: 0\n",
      "_________________________________________________________________\n"
     ]
    }
   ],
   "source": [
    "def create_autoencoder_model(SIZE):\n",
    "    # Create a Sequential model\n",
    "    model = Sequential()\n",
    "\n",
    "    # Encoder\n",
    "    model.add(Conv2D(32, (3, 3), activation='relu', padding='same', input_shape=(SIZE, SIZE, 3)))\n",
    "    model.add(MaxPooling2D((2, 2), padding='same'))\n",
    "    model.add(Conv2D(8, (3, 3), activation='relu', padding='same'))\n",
    "    model.add(MaxPooling2D((2, 2), padding='same'))\n",
    "    model.add(Conv2D(8, (3, 3), activation='relu', padding='same'))\n",
    "    model.add(MaxPooling2D((2, 2), padding='same'))\n",
    "\n",
    "    # The golden middle\n",
    "\n",
    "    # Decoder\n",
    "    model.add(Conv2D(8, (3, 3), activation='relu', padding='same'))\n",
    "    model.add(UpSampling2D((2, 2)))\n",
    "    model.add(Conv2D(8, (3, 3), activation='relu', padding='same'))\n",
    "    model.add(UpSampling2D((2, 2)))\n",
    "    model.add(Conv2D(32, (3, 3), activation='relu', padding='same'))\n",
    "    model.add(UpSampling2D((2, 2)))\n",
    "    model.add(Conv2D(3, (3, 3), activation='relu', padding='same'))\n",
    "\n",
    "    # Compile the model\n",
    "    model.compile(optimizer='adam', loss='mean_squared_error', metrics=['accuracy'])\n",
    "\n",
    "    # Print model summary\n",
    "    model.summary()\n",
    "\n",
    "    return model\n",
    "\n",
    "# Example usage:\n",
    "model = create_autoencoder_model(SIZE)"
   ]
  },
  {
   "cell_type": "markdown",
   "id": "94b1cc1d-037a-4f90-a812-901cc0e3c223",
   "metadata": {},
   "source": [
    "continue the process of training the convolutional autoencoder model you created earlier"
   ]
  },
  {
   "cell_type": "code",
   "execution_count": 11,
   "id": "d943d100-8901-4464-8e8f-c265610e1ed5",
   "metadata": {},
   "outputs": [
    {
     "name": "stdout",
     "output_type": "stream",
     "text": [
      "Epoch 1/50\n",
      "2/2 [==============================] - 3s 823ms/step - loss: 0.0747 - accuracy: 0.8261\n",
      "Epoch 2/50\n",
      "2/2 [==============================] - 2s 801ms/step - loss: 0.0568 - accuracy: 0.9761\n",
      "Epoch 3/50\n",
      "2/2 [==============================] - 2s 853ms/step - loss: 0.0470 - accuracy: 0.9851\n",
      "Epoch 4/50\n",
      "2/2 [==============================] - 2s 839ms/step - loss: 0.0437 - accuracy: 0.9810\n",
      "Epoch 5/50\n",
      "2/2 [==============================] - 2s 890ms/step - loss: 0.0362 - accuracy: 0.9723\n",
      "Epoch 6/50\n",
      "2/2 [==============================] - 2s 845ms/step - loss: 0.0347 - accuracy: 0.9414\n",
      "Epoch 7/50\n",
      "2/2 [==============================] - 2s 860ms/step - loss: 0.0329 - accuracy: 0.7509\n",
      "Epoch 8/50\n",
      "2/2 [==============================] - 2s 850ms/step - loss: 0.0308 - accuracy: 0.0850\n",
      "Epoch 9/50\n",
      "2/2 [==============================] - 2s 837ms/step - loss: 0.0310 - accuracy: 0.0357\n",
      "Epoch 10/50\n",
      "2/2 [==============================] - 2s 809ms/step - loss: 0.0295 - accuracy: 0.0453\n",
      "Epoch 11/50\n",
      "2/2 [==============================] - 2s 834ms/step - loss: 0.0287 - accuracy: 0.1179\n",
      "Epoch 12/50\n",
      "2/2 [==============================] - 2s 850ms/step - loss: 0.0284 - accuracy: 0.3543\n",
      "Epoch 13/50\n",
      "2/2 [==============================] - 2s 880ms/step - loss: 0.0280 - accuracy: 0.8902\n",
      "Epoch 14/50\n",
      "2/2 [==============================] - 2s 844ms/step - loss: 0.0276 - accuracy: 0.9737\n",
      "Epoch 15/50\n",
      "2/2 [==============================] - 2s 833ms/step - loss: 0.0273 - accuracy: 0.9887\n",
      "Epoch 16/50\n",
      "2/2 [==============================] - 2s 834ms/step - loss: 0.0272 - accuracy: 0.9914\n",
      "Epoch 17/50\n",
      "2/2 [==============================] - 2s 876ms/step - loss: 0.0270 - accuracy: 0.9920\n",
      "Epoch 18/50\n",
      "2/2 [==============================] - 2s 854ms/step - loss: 0.0268 - accuracy: 0.9920\n",
      "Epoch 19/50\n",
      "2/2 [==============================] - 2s 831ms/step - loss: 0.0267 - accuracy: 0.9912\n",
      "Epoch 20/50\n",
      "2/2 [==============================] - 2s 822ms/step - loss: 0.0265 - accuracy: 0.9902\n",
      "Epoch 21/50\n",
      "2/2 [==============================] - 2s 841ms/step - loss: 0.0263 - accuracy: 0.9883\n",
      "Epoch 22/50\n",
      "2/2 [==============================] - 2s 907ms/step - loss: 0.0262 - accuracy: 0.9860\n",
      "Epoch 23/50\n",
      "2/2 [==============================] - 2s 839ms/step - loss: 0.0260 - accuracy: 0.9851\n",
      "Epoch 24/50\n",
      "2/2 [==============================] - 2s 890ms/step - loss: 0.0259 - accuracy: 0.9828\n",
      "Epoch 25/50\n",
      "2/2 [==============================] - 2s 919ms/step - loss: 0.0259 - accuracy: 0.9817\n",
      "Epoch 26/50\n",
      "2/2 [==============================] - 2s 843ms/step - loss: 0.0258 - accuracy: 0.9812\n",
      "Epoch 27/50\n",
      "2/2 [==============================] - 2s 825ms/step - loss: 0.0258 - accuracy: 0.9812\n",
      "Epoch 28/50\n",
      "2/2 [==============================] - 2s 861ms/step - loss: 0.0258 - accuracy: 0.9819\n",
      "Epoch 29/50\n",
      "2/2 [==============================] - 2s 833ms/step - loss: 0.0257 - accuracy: 0.9829\n",
      "Epoch 30/50\n",
      "2/2 [==============================] - 2s 847ms/step - loss: 0.0257 - accuracy: 0.9843\n",
      "Epoch 31/50\n",
      "2/2 [==============================] - 2s 862ms/step - loss: 0.0256 - accuracy: 0.9857\n",
      "Epoch 32/50\n",
      "2/2 [==============================] - 2s 851ms/step - loss: 0.0256 - accuracy: 0.9864\n",
      "Epoch 33/50\n",
      "2/2 [==============================] - 2s 855ms/step - loss: 0.0256 - accuracy: 0.9873\n",
      "Epoch 34/50\n",
      "2/2 [==============================] - 2s 899ms/step - loss: 0.0255 - accuracy: 0.9876\n",
      "Epoch 35/50\n",
      "2/2 [==============================] - 2s 875ms/step - loss: 0.0255 - accuracy: 0.9877\n",
      "Epoch 36/50\n",
      "2/2 [==============================] - 2s 852ms/step - loss: 0.0254 - accuracy: 0.9878\n",
      "Epoch 37/50\n",
      "2/2 [==============================] - 2s 852ms/step - loss: 0.0255 - accuracy: 0.9879\n",
      "Epoch 38/50\n",
      "2/2 [==============================] - 2s 842ms/step - loss: 0.0254 - accuracy: 0.9877\n",
      "Epoch 39/50\n",
      "2/2 [==============================] - 2s 842ms/step - loss: 0.0254 - accuracy: 0.9873\n",
      "Epoch 40/50\n",
      "2/2 [==============================] - 2s 874ms/step - loss: 0.0254 - accuracy: 0.9859\n",
      "Epoch 41/50\n",
      "2/2 [==============================] - 2s 839ms/step - loss: 0.0254 - accuracy: 0.9858\n",
      "Epoch 42/50\n",
      "2/2 [==============================] - 2s 866ms/step - loss: 0.0253 - accuracy: 0.9875\n",
      "Epoch 43/50\n",
      "2/2 [==============================] - 2s 868ms/step - loss: 0.0253 - accuracy: 0.9880\n",
      "Epoch 44/50\n",
      "2/2 [==============================] - 2s 892ms/step - loss: 0.0254 - accuracy: 0.9883\n",
      "Epoch 45/50\n",
      "2/2 [==============================] - 2s 834ms/step - loss: 0.0253 - accuracy: 0.9882\n",
      "Epoch 46/50\n",
      "2/2 [==============================] - 2s 829ms/step - loss: 0.0252 - accuracy: 0.9881\n",
      "Epoch 47/50\n",
      "2/2 [==============================] - 2s 887ms/step - loss: 0.0254 - accuracy: 0.9884\n",
      "Epoch 48/50\n",
      "2/2 [==============================] - 2s 862ms/step - loss: 0.0253 - accuracy: 0.9891\n",
      "Epoch 49/50\n",
      "2/2 [==============================] - 2s 892ms/step - loss: 0.0252 - accuracy: 0.9901\n",
      "Epoch 50/50\n",
      "2/2 [==============================] - 2s 871ms/step - loss: 0.0252 - accuracy: 0.9906\n",
      "total computation time =  113.6822121143341\n"
     ]
    }
   ],
   "source": [
    "def train_model(input_img_array, output_img_array, epochs, start):\n",
    "    \n",
    "    # Define TensorBoard callback\n",
    "    # callbacks = [tf.keras.callbacks.TensorBoard(log_dir='einstein_logs')]\n",
    "\n",
    "    # Fit the model of input_img to output_img\n",
    "    model.fit(input_img_array, output_img_array, epochs=epochs, shuffle=True)# callbacks=callbacks)\n",
    "\n",
    "    # Print out the computation time\n",
    "    finish = time.time()\n",
    "    print('total computation time = ', finish - start)\n",
    "\n",
    "    # Save the model\n",
    "    # model.save(\"domain_adapt_autoenc_epochs.\" + str(epochs) + \".model\")\n",
    "\n",
    "# Example usage\n",
    "train_model(input_img_array, output_img_array, 50, start)"
   ]
  },
  {
   "cell_type": "code",
   "execution_count": 12,
   "id": "3ec53859-b3a4-47aa-8433-91f496b3e678",
   "metadata": {
    "tags": []
   },
   "outputs": [
    {
     "name": "stdout",
     "output_type": "stream",
     "text": [
      "output of test image\n",
      "1/1 [==============================] - 0s 69ms/step\n"
     ]
    },
    {
     "data": {
      "image/png": "[encoded data removed]",
      "text/plain": [
       "<Figure size 640x480 with 1 Axes>"
      ]
     },
     "metadata": {},
     "output_type": "display_data"
    }
   ],
   "source": [
    "# predict the original image as test image, \n",
    "# since it did not belong to the training data.\n",
    "# if the domain was really adapted, then the result would look like output_img\n",
    "print(\"output of test image\")\n",
    "pred = model.predict(test_img_array)\n",
    "plt.imshow(pred[0].reshape(SIZE,SIZE,3))\n",
    "plt.show()"
   ]
  },
  {
   "cell_type": "code",
   "execution_count": null,
   "id": "cf3c2212-68f6-4a9d-a1e1-3de6a2163b2d",
   "metadata": {},
   "outputs": [],
   "source": [
    "# the test image doesnt look so well, the autoencode should be trained more\n",
    "# but we dont have the computing power to match, atleast we think so\n",
    "# in theorie we would for starters just increase the number of epochs over which the modell is trained\n",
    "# if that doesnt improve the results it would be necessary to change the hyperparameters of the training"
   ]
  }
 ],
 "metadata": {
  "kernelspec": {
   "display_name": "Python 3 (ipykernel)",
   "language": "python",
   "name": "python3"
  },
  "language_info": {
   "codemirror_mode": {
    "name": "ipython",
    "version": 3
   },
   "file_extension": ".py",
   "mimetype": "text/x-python",
   "name": "python",
   "nbconvert_exporter": "python",
   "pygments_lexer": "ipython3",
   "version": "3.10.18"
  }
 },
 "nbformat": 4,
 "nbformat_minor": 5
}
