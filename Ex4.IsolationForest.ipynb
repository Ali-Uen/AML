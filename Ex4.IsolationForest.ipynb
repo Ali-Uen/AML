{
 "cells": [
  {
   "cell_type": "markdown",
   "metadata": {},
   "source": [
    "<img src=\"https://www.th-koeln.de/img/logo.svg\" style=\"float:right;\" width=\"200\">"
   ]
  },
  {
   "cell_type": "markdown",
   "metadata": {},
   "source": [
    "# 4th exercise: <font color=\"#C70039\">Use Isolation Forest for anomaly detection</font>\n",
    "* Course: AML\n",
    "* Lecturer: <a href=\"https://www.gernotheisenberg.de/\">Gernot Heisenberg</a>\n",
    "* Author of notebook: <a href=\"https://www.gernotheisenberg.de/\">Gernot Heisenberg</a>\n",
    "* Date:   19.10.2022\n",
    "\n",
    "<img src=\"https://www.researchgate.net/publication/352017898/figure/fig1/AS:1029757483372550@1622524724599/Isolation-Forest-learned-iForest-construction-for-toy-dataset.png\" style=\"float: center;\" width=\"450\">\n",
    "\n",
    "---------------------------------\n",
    "**GENERAL NOTE 1**: \n",
    "Please make sure you are reading the entire notebook, since it contains a lot of information on your tasks (e.g. regarding the set of certain paramaters or a specific computational trick), and the written mark downs as well as comments contain a lot of information on how things work together as a whole. \n",
    "\n",
    "**GENERAL NOTE 2**: \n",
    "* Please, when commenting source code, just use English language only. \n",
    "* When describing an observation please use English language, too\n",
    "* This applies to all exercises throughout this course.  \n",
    "\n",
    "---------------------\n",
    "\n",
    "### <font color=\"ce33ff\">DESCRIPTION</font>:\n",
    "This notebook allows you for using the Isolation Forest algorithm for anomaly detection. Isolation Forest is an unsupervised learning algorithm that belongs to the ensemble decision trees family. The following <a href=\"https://cs.nju.edu.cn/zhouzh/zhouzh.files/publication/icdm08b.pdf\">paper</a> explains the details on its theory and implementation. \n",
    "\n",
    "-------------------------------------------------------------------------------------------------------------\n",
    "\n",
    "### <font color=\"FFC300\">TASKS</font>:\n",
    "The tasks that you need to work on within this notebook are always indicated below as bullet points. \n",
    "If a task is more challenging and consists of several steps, this is indicated as well. \n",
    "Make sure you have worked down the task list and commented your doings. \n",
    "This should be done by using markdown.<br> \n",
    "<font color=red>Make sure you don't forget to specify your name and your matriculation number in the notebook.</font>\n",
    "\n",
    "**YOUR TASKS in this exercise are as follows**:\n",
    "1. import the notebook to Google Colab or use your local machine.\n",
    "2. make sure you specified you name and your matriculation number in the header below my name and date. \n",
    "    * set the date too and remove mine.\n",
    "3. read the entire notebook carefully \n",
    "    * add comments whereever you feel it necessary for better understanding\n",
    "    * run the notebook for the first time. \n",
    "\n",
    "4. take the three data sets from exercize 1 and apply the isolation forest to them.\n",
    "5. implement an appropriate visualisation (chart) that renders the result (anomaly={yes,no}) for every data point TOGETHER with the original data point in your data set.\n",
    "-----------------------------------------------------------------------------------"
   ]
  },
  {
   "cell_type": "markdown",
   "metadata": {},
   "source": [
    "### First example"
   ]
  },
  {
   "cell_type": "code",
   "execution_count": null,
   "metadata": {},
   "outputs": [],
   "source": [
    "from sklearn.ensemble import IsolationForest\n",
    "import numpy as np\n",
    "from numpy.random import randn\n",
    "\n",
    "np.random.seed(1)\n",
    "random_data = np.random.randn(50000,2)  * 20 + 20"
   ]
  },
  {
   "cell_type": "markdown",
   "metadata": {},
   "source": [
    "This code will output the predictions for each data point in an array. If the result is -1, it means that this specific data point is an outlier. If the result is 1, then it means that the data point is not an outlier."
   ]
  },
  {
   "cell_type": "code",
   "execution_count": null,
   "metadata": {},
   "outputs": [],
   "source": [
    "#https://scikit-learn.org/stable/modules/generated/sklearn.ensemble.IsolationForest.html\n",
    "isolation_forest1 = IsolationForest(max_samples=100, random_state = 1, contamination= 'auto')\n",
    "\n",
    "# Note, that fit and predict is called mutually (compare with code below!)\n",
    "# Performs a fit on data and returns labels for that data\n",
    "outlier_labels = isolation_forest1.fit_predict(random_data)\n",
    "\n",
    "outlier_labels[0:200]"
   ]
  },
  {
   "cell_type": "markdown",
   "metadata": {},
   "source": [
    "### Second example"
   ]
  },
  {
   "cell_type": "code",
   "execution_count": null,
   "metadata": {},
   "outputs": [],
   "source": [
    "import numpy as np\n",
    "import matplotlib.pyplot as plt\n",
    "from sklearn.ensemble import IsolationForest\n",
    "\n",
    "# create a bimodal data distribution and visualize it\n",
    "bimod_data = np.concatenate((np.random.normal(loc=-2,scale=.5,size=500), \n",
    "                             np.random.normal(loc=2, scale=.5,size=500)))\n",
    "\n",
    "plt.hist(bimod_data, density=True)\n",
    "plt.xlim([-5, 5])\n",
    "plt.title(\"Bimodal data distribution\")\n",
    "plt.show()"
   ]
  },
  {
   "cell_type": "markdown",
   "metadata": {},
   "source": [
    "Note, that there are three regions where the data has low probability to appear: \n",
    "* one on the right side of the distribution\n",
    "* another one on the left\n",
    "* and another around zero. \n",
    "\n",
    "Let's see if the IsolationForest is able to identify these three regions"
   ]
  },
  {
   "cell_type": "code",
   "execution_count": null,
   "metadata": {},
   "outputs": [],
   "source": [
    "# create the IF with n=100 estimators (remember IF is a ensemble method)\n",
    "isolation_forest2 = IsolationForest(n_estimators=100)\n",
    "isolation_forest2.fit(bimod_data.reshape(-1, 1))\n",
    "\n",
    "# create a test data set for rasterizing the x-axis the get the anomaly score for it.\n",
    "anomaly_score_test_data = np.linspace(-6, 6, 200).reshape(-1,1)\n",
    "\n",
    "# get the anomaly score (y) for each testing data point on x \n",
    "anomaly_score = isolation_forest2.decision_function(anomaly_score_test_data)\n",
    "# classify into an outlier or not (asc < 0 -> outlier)\n",
    "outlier_labels = isolation_forest2.predict(anomaly_score_test_data)\n",
    "\n",
    "# visalize both: anomaly_score and outlier\n",
    "plt.plot(anomaly_score_test_data, anomaly_score, label='anomaly score')\n",
    "plt.fill_between(anomaly_score_test_data.T[0], np.min(anomaly_score), np.max(anomaly_score), \n",
    "                 where=outlier_labels==-1, color='#FF00FF', \n",
    "                 alpha=.4, label='outlier region')\n",
    "plt.legend()\n",
    "plt.ylabel('anomaly score')\n",
    "plt.xlabel('x')\n",
    "plt.xlim([-5, 5])\n",
    "plt.show()"
   ]
  },
  {
   "cell_type": "code",
   "execution_count": null,
   "metadata": {},
   "outputs": [],
   "source": []
  }
 ],
 "metadata": {
  "kernelspec": {
   "display_name": "Python 3",
   "language": "python",
   "name": "python3"
  },
  "language_info": {
   "codemirror_mode": {
    "name": "ipython",
    "version": 3
   },
   "file_extension": ".py",
   "mimetype": "text/x-python",
   "name": "python",
   "nbconvert_exporter": "python",
   "pygments_lexer": "ipython3",
   "version": "3.7.7"
  }
 },
 "nbformat": 4,
 "nbformat_minor": 5
}
